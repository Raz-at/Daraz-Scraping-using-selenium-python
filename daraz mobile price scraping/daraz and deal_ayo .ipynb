{
 "cells": [
  {
   "cell_type": "code",
   "execution_count": 2,
   "id": "2baa5172",
   "metadata": {},
   "outputs": [],
   "source": [
    "from selenium import webdriver\n",
    "from selenium.webdriver.chrome.service import Service\n",
    "from time import sleep\n",
    "import time\n",
    "from selenium.webdriver.support.ui import WebDriverWait\n",
    "from selenium.webdriver.support.ui import Select\n",
    "from selenium.webdriver.support import expected_conditions as EC\n",
    "from selenium.webdriver.common.by import By\n",
    "from selenium.webdriver.common.keys import Keys\n",
    "import csv\n",
    "import pandas as pd\n",
    "from selenium.common.exceptions import NoSuchElementException\n",
    "import re"
   ]
  },
  {
   "cell_type": "code",
   "execution_count": 95,
   "id": "27da9abc",
   "metadata": {},
   "outputs": [],
   "source": [
    "# Set up the driver\n",
    "path = \"C:\\Program Files\\Google\\Chrome\\chromedriver.exe\"\n",
    "service = Service(executable_path=path)\n",
    "driver_daraz = webdriver.Chrome(service=service)\n",
    "driver_dealayo = webdriver.Chrome(service=service)\n",
    "driver_daraz.get(\"https://www.daraz.com.np/?spm=a2a0e.shipping.header.dhome.178a6af7ssboMK\")\n",
    "driver_dealayo.get(\"https://www.dealayo.com/\")\n",
    "\n",
    "driver_daraz.maximize_window()\n",
    "driver_dealayo.maximize_window()\n"
   ]
  },
  {
   "cell_type": "code",
   "execution_count": 216,
   "id": "783a0572",
   "metadata": {},
   "outputs": [
    {
     "name": "stdout",
     "output_type": "stream",
     "text": [
      "Enter the product name: oppo a16\n"
     ]
    }
   ],
   "source": [
    "# Search for the item in daraz\n",
    "search_box_daraz = driver_daraz.find_element(By.CSS_SELECTOR, \"#q\")\n",
    "value = input(\"Enter the product name: \")\n",
    "search_box_daraz.send_keys(value)\n",
    "search_box_daraz.send_keys(Keys.RETURN)\n",
    "\n",
    "# Search for the item in dealayo\n",
    "search_box_dealayo = driver_dealayo.find_element(By.CSS_SELECTOR, \"#search\")\n",
    "search_box_dealayo.send_keys(value)\n",
    "search_box_dealayo.send_keys(Keys.RETURN)\n",
    "\n",
    "# Wait for the page to load\n",
    "time.sleep(2)\n",
    "\n",
    "words  =value.split()\n",
    "last_word = words[-1]\n",
    "index = words.index(last_word)"
   ]
  },
  {
   "cell_type": "code",
   "execution_count": 217,
   "id": "ae065d8a",
   "metadata": {},
   "outputs": [],
   "source": [
    "product_links_daraz = []\n",
    "mob_data_list_daraz = []\n",
    "\n",
    "# Get the product links\n",
    "product_elements_daraz = driver_daraz.find_elements(By.XPATH, '//div[@class=\"mainPic--ehOdr\"]/a[@age=\"0\"]')\n",
    "for product_element_daraz in product_elements_daraz:\n",
    "    product_links_daraz.append(product_element_daraz.get_attribute(\"href\"))\n",
    "\n",
    "# Get the data for 8 products from the product link \n",
    "for product_link_daraz in product_links_daraz[:8]:\n",
    "    driver_daraz.get(product_link_daraz)\n",
    "    time.sleep(2)\n",
    "    \n",
    "    # Check if the value of the specified element is \"Mobiles\"\n",
    "    breadcrumb_element_daraz = driver_daraz.find_element(By.CSS_SELECTOR, \"#J_breadcrumb > li:nth-child(2) > span > a > span\")\n",
    "    breadcrumb_value_daraz = breadcrumb_element_daraz.text\n",
    "    \n",
    "    if breadcrumb_value_daraz != \"Mobiles\":\n",
    "        break\n",
    "    \n",
    "    try:\n",
    "        mob_data_dict_daraz = {}\n",
    "\n",
    "        # Get the name\n",
    "        try:\n",
    "            mob_detail_element_daraz = driver_daraz.find_element(By.CSS_SELECTOR, '#module_product_title_1 > div > div > span')\n",
    "            mob_detail_daraz = mob_detail_element_daraz.text            \n",
    "            mob_detail_daraz = mob_detail_daraz.lower()\n",
    "            mob_name = mob_detail_daraz\n",
    "            mob_detail_daraz = re.split(r' [|,\\-(]', mob_detail_daraz, 1)[0]\n",
    "            mob_detail_daraz = mob_detail_daraz.replace(\"apple \", \"\")\n",
    "            mob_data_dict_daraz[\"Name\"] = mob_detail_daraz\n",
    "\n",
    "        except:continue\n",
    "\n",
    "        # Get the price\n",
    "        try:\n",
    "            price_daraz = driver_daraz.find_element(By.CSS_SELECTOR, value='#module_product_price_1 > div > div > span')\n",
    "            mob_data_dict_daraz[\"Price\"] = price_daraz.text\n",
    "        except:continue\n",
    "            \n",
    "        # Get the storage\n",
    "        try:\n",
    "            storage_daraz = driver_daraz.find_element(By.CSS_SELECTOR, value='#module_sku-select > div > div:nth-child(3) > div > div > div.sku-prop-content-header > span')\n",
    "            mob_data_dict_daraz[\"Storage\"] = storage_daraz.text\n",
    "        except:\n",
    "            matches =re.findall(r'\\d+\\s*gb', mob_name)\n",
    "            Storage_gb = matches[1]\n",
    "            mob_data_dict_daraz[\"Storage\"] =Storage_gb.upper()\n",
    "\n",
    "        # Get the RAM\n",
    "        try:\n",
    "            ram_daraz = driver_daraz.find_element(By.CSS_SELECTOR, value='#module_sku-select > div > div:nth-child(2) > div > div > div.sku-prop-content-header > span')\n",
    "            mob_data_dict_daraz[\"RAM\"] = ram_daraz.text\n",
    "        except:\n",
    "            matches =re.findall(r'\\d+\\s*gb', mob_name)\n",
    "            Ram_gb = matches[0]\n",
    "            mob_data_dict_daraz[\"RAM\"] =Ram_gb.upper()\n",
    "        \n",
    "        mob_data_dict_daraz[\"URL\"] = product_link_daraz\n",
    "\n",
    "        mob_data_list_daraz.append(mob_data_dict_daraz)\n",
    "        \n",
    "    except:\n",
    "        continue\n"
   ]
  },
  {
   "cell_type": "code",
   "execution_count": 218,
   "id": "3aca2710",
   "metadata": {
    "collapsed": true
   },
   "outputs": [
    {
     "name": "stdout",
     "output_type": "stream",
     "text": [
      "Name: oppo a16\n",
      "Price: Rs. 19,500\n",
      "Storage: 64GB\n",
      "RAM: 4GB\n",
      "URL: https://www.daraz.com.np/products/oppo-a16-4gb64gb-3d-curved-edge-body-13mp-triple-ai-camera-battery-5000mah-hd-eye-care-display-i125154998-s1033975733.html?search=1\n",
      "\n",
      "Name: oppo a16\n",
      "Price: Rs. 20,000\n",
      "Storage: 64GB\n",
      "RAM: 4GB\n",
      "URL: https://www.daraz.com.np/products/oppo-a16-4gb-ram-64gb-rom-5000mah-battery-software-android-11-with-coloros-111-i114995485-s1031465843.html?search=1\n",
      "\n"
     ]
    }
   ],
   "source": [
    "# show all the searched item\n",
    "for data_daraz in mob_data_list_daraz:\n",
    "    words = (data_daraz[\"Name\"]).split()\n",
    "    tot_words = ' '.join(words[:index+1])\n",
    "    if tot_words == value:\n",
    "        print(\"Name:\", tot_words)\n",
    "        print(\"Price:\", data_daraz[\"Price\"])\n",
    "        print(\"Storage:\", data_daraz[\"Storage\"])\n",
    "        print(\"RAM:\", data_daraz[\"RAM\"])\n",
    "        print(\"URL:\", data_daraz[\"URL\"])\n",
    "        print()\n"
   ]
  },
  {
   "cell_type": "code",
   "execution_count": 43,
   "id": "7f6791f3",
   "metadata": {
    "collapsed": true
   },
   "outputs": [
    {
     "name": "stdout",
     "output_type": "stream",
     "text": [
      "Enter the RAM: 8\n",
      "Enter the storage: 128\n",
      "Name: oneplus 8t\n",
      "Price: Rs. 78,999\n",
      "Storage: 128GB\n",
      "RAM: 8GB\n",
      "URL: https://www.daraz.com.np/products/oneplus-8t-ke2003-ram-8gb-rom-128gb-64mp-quad-camera-i105032170-s1026638529.html?search=1\n"
     ]
    }
   ],
   "source": [
    "# show searhed item with user ram and storage\n",
    "device_found = False \n",
    "user_ram = input(\"Enter the RAM: \")\n",
    "user_storage = input(\"Enter the storage: \")\n",
    "for data_daraz in mob_data_list_daraz:\n",
    "    words = (data_daraz[\"Name\"]).split()\n",
    "    tot_words = ' '.join(words[:index+1])\n",
    "    if tot_words == value:\n",
    "        if (data_daraz[\"RAM\"] == user_ram + \"GB\" or data_daraz[\"RAM\"] == user_ram + \" GB\") and (data_daraz[\"Storage\"] == user_storage + \"GB\" or data_daraz[\"Storage\"] == user_storage + \" GB\"):\n",
    "            print(\"Name:\", tot_words)\n",
    "            print(\"Price:\", data_daraz[\"Price\"])\n",
    "            print(\"Storage:\", data_daraz[\"Storage\"])\n",
    "            print(\"RAM:\", data_daraz[\"RAM\"])\n",
    "            print(\"URL:\", data_daraz[\"URL\"])\n",
    "            device_found = True\n",
    "if not device_found:\n",
    "    print(f\"{value} is not available in {user_ram}GB RAM with {user_storage}GB storage\")"
   ]
  },
  {
   "cell_type": "code",
   "execution_count": 219,
   "id": "22e9d6f4",
   "metadata": {},
   "outputs": [],
   "source": [
    "product_links_dealayo = []\n",
    "mob_data_list_dealayo = []\n",
    "\n",
    "try:\n",
    "    sort_button_dealayo = driver_dealayo.find_element(By.CSS_SELECTOR, 'body > div.wrapper > div > div.main-container.col2-left-layout > div > div.container.col-main-containter > div > div.col-sm-18.col-sm-push-6.col-main > div > div.category-products > div.toolbar > div.sorter > div > select > option:nth-child(3)')\n",
    "    sort_button_dealayo.click()\n",
    "\n",
    "    sort_button_dealayo = driver_dealayo.find_element(By.CSS_SELECTOR, 'body > div.wrapper > div > div.main-container.col2-left-layout > div > div.container.col-main-containter > div > div.col-sm-18.col-sm-push-6.col-main > div > div.category-products > div.toolbar > div.sorter > div > a')\n",
    "    sort_button_dealayo.click()\n",
    "\n",
    "    # Wait for the page to reload\n",
    "    time.sleep(2)\n",
    "    \n",
    "    # Get the link of each product on the page\n",
    "    product_elements_dealayo = driver_dealayo.find_elements(By.XPATH, '//div/a[@class=\"product-image no-alt-img\"]')\n",
    "    for product_element_dealayo in product_elements_dealayo:\n",
    "        product_links_dealayo.append(product_element_dealayo.get_attribute('href'))\n",
    "    \n",
    "    # Iterate through the links of every product\n",
    "    for product_link_dealayo in product_links_dealayo:\n",
    "        driver_dealayo.get(product_link_dealayo)\n",
    "        time.sleep(2)\n",
    "        \n",
    "        try:\n",
    "            mob_data_dict_dealayo = {}\n",
    "\n",
    "            try:\n",
    "                name_dealayo_element = driver_dealayo.find_element(By.CSS_SELECTOR, value='#product_addtocart_form > div.row > div > div > div.col-sm-19 > div > div.col-sm-10.col-sm-push-1.product-view-info > div > div.product-shop-wrap.product-shop-title > div.product-name > h1')\n",
    "                name_dealayo = name_dealayo_element.text\n",
    "                name_dealayo = re.split(r' [|,\\-(]', name_dealayo, 1)[0]\n",
    "                mob_data_dict_dealayo[\"Name\"] = name_dealayo\n",
    "            except:\n",
    "                pass\n",
    "\n",
    "            try:\n",
    "                price_element = driver_dealayo.find_element(By.XPATH , '//span[@class=\"regular-price\"]')\n",
    "                mob_data_dict_dealayo[\"Price\"] = price_element.text\n",
    "            except:\n",
    "                pass\n",
    "\n",
    "            try:\n",
    "                storage_element = driver_dealayo.find_element(By.XPATH , '//*[@id=\"product-attribute-specs-table-4\"]/tbody/tr[5]/td')\n",
    "                mob_data_dict_dealayo[\"Storage\"] = storage_element.text\n",
    "            except:\n",
    "                pass\n",
    "\n",
    "            try:\n",
    "                ram_element = driver_dealayo.find_element(By.XPATH , '//*[@id=\"product-attribute-specs-table-4\"]/tbody/tr[4]/td')\n",
    "                mob_data_dict_dealayo[\"RAM\"] = ram_element.text\n",
    "            except:\n",
    "                pass\n",
    "\n",
    "            mob_data_dict_dealayo[\"URL\"] = product_link_dealayo\n",
    "            mob_data_list_dealayo.append(mob_data_dict_dealayo)\n",
    "\n",
    "        except:\n",
    "            break\n",
    "\n",
    "except NoSuchElementException:\n",
    "    mob_data_dict_dealayo = {}\n",
    "    try:\n",
    "        name_dealayo_element = driver_dealayo.find_element(By.CSS_SELECTOR, value='#product_addtocart_form > div.row > div > div > div.col-sm-19 > div > div.col-sm-10.col-sm-push-1.product-view-info > div > div.product-shop-wrap.product-shop-title > div.product-name > h1')\n",
    "        name_dealayo = name_dealayo_element.text\n",
    "        name_dealayo = re.split(r' [|,\\-(]', name_dealayo, 1)[0]\n",
    "        mob_data_dict_dealayo[\"Name\"] = name_dealayo\n",
    "    except:\n",
    "        pass\n",
    "\n",
    "    try:\n",
    "        ram_element = driver_dealayo.find_element(By.XPATH , '//*[@id=\"product-attribute-specs-table-4\"]/tbody/tr[4]/td')\n",
    "        mob_data_dict_dealayo[\"RAM\"] = ram_element.text\n",
    "    except:\n",
    "        pass\n",
    "\n",
    "    try:\n",
    "        storage_element = driver_dealayo.find_element(By.XPATH , '//*[@id=\"product-attribute-specs-table-4\"]/tbody/tr[5]/td')\n",
    "        mob_data_dict_dealayo[\"Storage\"] = storage_element.text\n",
    "    except:\n",
    "        pass\n",
    "\n",
    "    try:\n",
    "        price_element = driver_dealayo.find_element(By.XPATH , '//span[@class=\"regular-price\"]')\n",
    "        mob_data_dict_dealayo[\"Price\"] = price_element.text\n",
    "    except:\n",
    "        pass\n",
    "\n",
    "    mob_data_dict_dealayo[\"URL\"] = driver_dealayo.current_url\n",
    "    mob_data_list_dealayo.append(mob_data_dict_dealayo)\n",
    "\n"
   ]
  },
  {
   "cell_type": "code",
   "execution_count": 220,
   "id": "7b43916c",
   "metadata": {
    "collapsed": true
   },
   "outputs": [
    {
     "name": "stdout",
     "output_type": "stream",
     "text": [
      "Name: Su-vastika 165ah\n"
     ]
    },
    {
     "ename": "KeyError",
     "evalue": "'Price'",
     "output_type": "error",
     "traceback": [
      "\u001b[1;31m---------------------------------------------------------------------------\u001b[0m",
      "\u001b[1;31mKeyError\u001b[0m                                  Traceback (most recent call last)",
      "\u001b[1;32m~\\AppData\\Local\\Temp\\ipykernel_4440\\3542139562.py\u001b[0m in \u001b[0;36m<module>\u001b[1;34m\u001b[0m\n\u001b[0;32m      2\u001b[0m \u001b[1;32mfor\u001b[0m \u001b[0mdeal\u001b[0m \u001b[1;32min\u001b[0m \u001b[0mmob_data_list_dealayo\u001b[0m\u001b[1;33m:\u001b[0m\u001b[1;33m\u001b[0m\u001b[1;33m\u001b[0m\u001b[0m\n\u001b[0;32m      3\u001b[0m     \u001b[0mprint\u001b[0m\u001b[1;33m(\u001b[0m\u001b[1;34m\"Name:\"\u001b[0m\u001b[1;33m,\u001b[0m \u001b[0mdeal\u001b[0m\u001b[1;33m[\u001b[0m\u001b[1;34m\"Name\"\u001b[0m\u001b[1;33m]\u001b[0m\u001b[1;33m)\u001b[0m\u001b[1;33m\u001b[0m\u001b[1;33m\u001b[0m\u001b[0m\n\u001b[1;32m----> 4\u001b[1;33m     \u001b[0mprint\u001b[0m\u001b[1;33m(\u001b[0m\u001b[1;34m\"Price:\"\u001b[0m\u001b[1;33m,\u001b[0m \u001b[0mdeal\u001b[0m\u001b[1;33m[\u001b[0m\u001b[1;34m\"Price\"\u001b[0m\u001b[1;33m]\u001b[0m\u001b[1;33m)\u001b[0m\u001b[1;33m\u001b[0m\u001b[1;33m\u001b[0m\u001b[0m\n\u001b[0m\u001b[0;32m      5\u001b[0m     \u001b[0mprint\u001b[0m\u001b[1;33m(\u001b[0m\u001b[1;34m\"Storage:\"\u001b[0m\u001b[1;33m,\u001b[0m \u001b[0mdeal\u001b[0m\u001b[1;33m[\u001b[0m\u001b[1;34m\"Storage\"\u001b[0m\u001b[1;33m]\u001b[0m\u001b[1;33m)\u001b[0m\u001b[1;33m\u001b[0m\u001b[1;33m\u001b[0m\u001b[0m\n\u001b[0;32m      6\u001b[0m     \u001b[0mprint\u001b[0m\u001b[1;33m(\u001b[0m\u001b[1;34m\"RAM:\"\u001b[0m\u001b[1;33m,\u001b[0m \u001b[0mdeal\u001b[0m\u001b[1;33m[\u001b[0m\u001b[1;34m\"RAM\"\u001b[0m\u001b[1;33m]\u001b[0m\u001b[1;33m)\u001b[0m\u001b[1;33m\u001b[0m\u001b[1;33m\u001b[0m\u001b[0m\n",
      "\u001b[1;31mKeyError\u001b[0m: 'Price'"
     ]
    }
   ],
   "source": [
    "# searched items\n",
    "for deal in mob_data_list_dealayo:\n",
    "    print(\"Name:\", deal[\"Name\"])\n",
    "    print(\"Price:\", deal[\"Price\"])\n",
    "    print(\"Storage:\", deal[\"Storage\"])\n",
    "    print(\"RAM:\", deal[\"RAM\"])\n",
    "    print(\"URL:\", deal[\"URL\"])\n",
    "    print()\n",
    "    "
   ]
  },
  {
   "cell_type": "code",
   "execution_count": 212,
   "id": "fd372b4a",
   "metadata": {},
   "outputs": [
    {
     "name": "stdout",
     "output_type": "stream",
     "text": [
      "Enter the RAM: 12\n",
      "Enter the storage: 123\n",
      "Samsung Galaxy S23 Ultra 5G is not available in 12GB RAM with 123GB storage\n"
     ]
    }
   ],
   "source": [
    "#deal ayo ko searched item with user ram and storage as input\n",
    "device_found = False\n",
    "user_ram = input(\"Enter the RAM: \")\n",
    "user_storage = input(\"Enter the storage: \")\n",
    "\n",
    "for deal in mob_data_list_dealayo:\n",
    "    words = (deal[\"Name\"]).split()\n",
    "    tot_words = ' '.join(words[:index+1])\n",
    "    if tot_words.lower() == value:\n",
    "        if (deal[\"RAM\"] == user_ram + \"GB\" or deal[\"RAM\"] == user_ram + \" GB\") and (deal[\"Storage\"] == user_storage + \"GB\" or deal[\"Storage\"] == user_storage + \" GB\"):\n",
    "            print(\"Name:\", deal[\"Name\"])\n",
    "            print(\"Price:\", deal[\"Price\"])\n",
    "            print(\"Storage:\", deal[\"Storage\"])\n",
    "            print(\"RAM:\", deal[\"RAM\"])\n",
    "            print(\"URL:\", deal[\"URL\"])\n",
    "            print()\n",
    "            device_found = True\n",
    "            \n",
    "if not device_found:\n",
    "    print(f\"{deal['Name']} is not available in {user_ram}GB RAM with {user_storage}GB storage\")\n",
    "   \n"
   ]
  }
 ],
 "metadata": {
  "kernelspec": {
   "display_name": "Python 3 (ipykernel)",
   "language": "python",
   "name": "python3"
  },
  "language_info": {
   "codemirror_mode": {
    "name": "ipython",
    "version": 3
   },
   "file_extension": ".py",
   "mimetype": "text/x-python",
   "name": "python",
   "nbconvert_exporter": "python",
   "pygments_lexer": "ipython3",
   "version": "3.9.13"
  }
 },
 "nbformat": 4,
 "nbformat_minor": 5
}
